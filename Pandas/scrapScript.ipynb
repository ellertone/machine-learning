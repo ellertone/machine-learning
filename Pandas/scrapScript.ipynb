{
 "cells": [
  {
   "cell_type": "code",
   "execution_count": 2,
   "id": "049f2da4-fec1-4096-9a39-c8996c391fef",
   "metadata": {},
   "outputs": [],
   "source": [
    "import requests\n",
    "from bs4 import BeautifulSoup"
   ]
  },
  {
   "cell_type": "code",
   "execution_count": 13,
   "id": "1e9b5dc1-e710-455d-b327-84705cb6afbd",
   "metadata": {},
   "outputs": [],
   "source": [
    "url = \"https://www.goodreads.com/quotes/tag/{}?page={}\"\n",
    "\n"
   ]
  },
  {
   "cell_type": "code",
   "execution_count": 25,
   "id": "56e3cb77-2f14-4016-b506-ae2cade00ff1",
   "metadata": {},
   "outputs": [],
   "source": [
    "def get_quotes(url):\n",
    "    res = requests.get(url)\n",
    "\n",
    "    soup = BeautifulSoup(res.text)\n",
    "\n",
    "    links = soup.find_all(\"a\")\n",
    "\n",
    "    quote_divs = soup.find_all(\"div\", attrs={\"class\" : \"quote\"})\n",
    "\n",
    "    quotes = []\n",
    "\n",
    "    for quote_div in quote_divs:\n",
    "        quote_text = quote_div.find_next(\"div\", attrs={\"class\" : \"quoteText\"})\n",
    "\n",
    "        striped_li = quote_text.text.strip().split(\"\\n\")\n",
    "\n",
    "        quote = striped_li[0][1:-1]\n",
    "        author = striped_li[-1].strip()\n",
    "\n",
    "        left_div = quote_div.find_next(\"div\", attrs={\"class\" : \"left\"})\n",
    "        tags = [tag.text for tag in left_div.find_all(\"a\")]\n",
    "\n",
    "        quote_item = {\n",
    "            \"text\" : quote,\n",
    "            \"author\" : author,\n",
    "            \"tags\" : tags,\n",
    "        }\n",
    "\n",
    "        quotes.append(quote_item)\n",
    "    return quotes"
   ]
  },
  {
   "cell_type": "code",
   "execution_count": 26,
   "id": "343634eb-9dca-4048-a5ff-68e43f6db637",
   "metadata": {},
   "outputs": [
    {
     "name": "stdout",
     "output_type": "stream",
     "text": [
      "processed 1\n",
      "processed 2\n",
      "processed 3\n",
      "processed 4\n",
      "processed 5\n"
     ]
    }
   ],
   "source": [
    "total = []\n",
    "for i in range(1, 6):\n",
    "    total.extend(get_quotes(url.format(\"wisdom\", i)))\n",
    "    print(\"processed\", i)"
   ]
  },
  {
   "cell_type": "code",
   "execution_count": 27,
   "id": "843abbfc-ff23-4ddf-9025-e6c209162dd6",
   "metadata": {},
   "outputs": [
    {
     "data": {
      "text/plain": [
       "150"
      ]
     },
     "execution_count": 27,
     "metadata": {},
     "output_type": "execute_result"
    }
   ],
   "source": [
    "len(total)"
   ]
  },
  {
   "cell_type": "code",
   "execution_count": 28,
   "id": "80711217-0231-4fb2-8e46-104672a30fe3",
   "metadata": {},
   "outputs": [],
   "source": [
    "import pandas as pd"
   ]
  },
  {
   "cell_type": "code",
   "execution_count": 29,
   "id": "b9301017-dbda-4c65-9514-8f31154603ed",
   "metadata": {},
   "outputs": [],
   "source": [
    "df = pd.DataFrame(total)"
   ]
  },
  {
   "cell_type": "code",
   "execution_count": 30,
   "id": "2b3e98f7-7e67-415e-bc4f-b7dee1e7de1b",
   "metadata": {},
   "outputs": [],
   "source": [
    "df.to_csv(\"scrap.csv\", index= None)"
   ]
  },
  {
   "cell_type": "code",
   "execution_count": null,
   "id": "c5cb3953-1c17-4912-b823-f6337f9d89c5",
   "metadata": {},
   "outputs": [],
   "source": []
  }
 ],
 "metadata": {
  "kernelspec": {
   "display_name": "Python 3 (ipykernel)",
   "language": "python",
   "name": "python3"
  },
  "language_info": {
   "codemirror_mode": {
    "name": "ipython",
    "version": 3
   },
   "file_extension": ".py",
   "mimetype": "text/x-python",
   "name": "python",
   "nbconvert_exporter": "python",
   "pygments_lexer": "ipython3",
   "version": "3.10.9"
  }
 },
 "nbformat": 4,
 "nbformat_minor": 5
}
