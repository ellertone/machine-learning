{
 "cells": [
  {
   "cell_type": "code",
   "execution_count": 1,
   "id": "049f2da4-fec1-4096-9a39-c8996c391fef",
   "metadata": {},
   "outputs": [],
   "source": [
    "import requests\n",
    "from bs4 import BeautifulSoup"
   ]
  },
  {
   "cell_type": "code",
   "execution_count": 4,
   "id": "1e9b5dc1-e710-455d-b327-84705cb6afbd",
   "metadata": {},
   "outputs": [
    {
     "data": {
      "text/plain": [
       "'https://www.goodreads.com/quotes/tag/wisdom'"
      ]
     },
     "execution_count": 4,
     "metadata": {},
     "output_type": "execute_result"
    }
   ],
   "source": [
    "url = \"https://www.goodreads.com/quotes/tag/{}\"\n",
    "url.format(\"wisdom\")\n"
   ]
  },
  {
   "cell_type": "code",
   "execution_count": 5,
   "id": "3b7c9f9d-654c-4227-a9bc-7014b5d443cb",
   "metadata": {},
   "outputs": [],
   "source": [
    "res = requests.get(url)"
   ]
  },
  {
   "cell_type": "code",
   "execution_count": 6,
   "id": "bc782b65-af52-4baf-9a93-5742e6d06022",
   "metadata": {},
   "outputs": [],
   "source": [
    "soup = BeautifulSoup(res.text)"
   ]
  },
  {
   "cell_type": "code",
   "execution_count": 7,
   "id": "66efecc0-8e78-431d-8a8c-b1a96d858703",
   "metadata": {},
   "outputs": [],
   "source": [
    "links = soup.find_all(\"a\")"
   ]
  },
  {
   "cell_type": "code",
   "execution_count": 8,
   "id": "3d9a4011-865a-4c08-9a10-4965cd740096",
   "metadata": {},
   "outputs": [],
   "source": [
    "quote_divs = soup.find_all(\"div\", attrs={\"class\" : \"quote\"})"
   ]
  },
  {
   "cell_type": "code",
   "execution_count": 9,
   "id": "6562a13a-3c5c-4d58-b1fc-1c33a2c9cd95",
   "metadata": {},
   "outputs": [],
   "source": [
    "quote_div = quote_divs[0]"
   ]
  },
  {
   "cell_type": "code",
   "execution_count": 10,
   "id": "0556c262-22b4-4060-840c-59b138a62b4e",
   "metadata": {},
   "outputs": [],
   "source": [
    "quote_text = quote_div.find_next(\"div\", attrs={\"class\" : \"quoteText\"})"
   ]
  },
  {
   "cell_type": "code",
   "execution_count": 11,
   "id": "b0b4dc0f-ecff-4a10-b743-4aa4255532aa",
   "metadata": {},
   "outputs": [],
   "source": [
    "striped_li = quote_text.text.strip().split(\"\\n\")"
   ]
  },
  {
   "cell_type": "code",
   "execution_count": 12,
   "id": "cedf9b2c-30eb-479c-9bfa-f123f399ccc7",
   "metadata": {},
   "outputs": [],
   "source": [
    "quote = striped_li[0][1:-1]\n",
    "author = striped_li[-1].strip()"
   ]
  },
  {
   "cell_type": "code",
   "execution_count": 13,
   "id": "90264683-b8d4-4fdf-97fd-d33378fa9bfe",
   "metadata": {},
   "outputs": [
    {
     "data": {
      "text/plain": [
       "'Be yourself; everyone else is already taken.'"
      ]
     },
     "execution_count": 13,
     "metadata": {},
     "output_type": "execute_result"
    }
   ],
   "source": [
    "quote"
   ]
  },
  {
   "cell_type": "code",
   "execution_count": 14,
   "id": "95e0a6cb-25ad-4557-b802-65c618598831",
   "metadata": {},
   "outputs": [
    {
     "data": {
      "text/plain": [
       "'Oscar Wilde'"
      ]
     },
     "execution_count": 14,
     "metadata": {},
     "output_type": "execute_result"
    }
   ],
   "source": [
    "author"
   ]
  },
  {
   "cell_type": "code",
   "execution_count": 26,
   "id": "7ace7817-9fa0-417b-982d-5a9cd834f13b",
   "metadata": {},
   "outputs": [],
   "source": [
    "left_div = quote_div.find_next(\"div\", attrs={\"class\" : \"left\"})"
   ]
  },
  {
   "cell_type": "code",
   "execution_count": 27,
   "id": "ba6230c7-5871-415f-9571-492ee3c6f4ad",
   "metadata": {},
   "outputs": [],
   "source": [
    "tags = [tag.text for tag in left_div.find_all(\"a\")]"
   ]
  },
  {
   "cell_type": "code",
   "execution_count": 28,
   "id": "ad87ad6c-d8c6-4093-9f0b-f876cc111da0",
   "metadata": {},
   "outputs": [
    {
     "data": {
      "text/plain": [
       "['attributed-no-source',\n",
       " 'be-yourself',\n",
       " 'gilbert-perreira',\n",
       " 'honesty',\n",
       " 'inspirational',\n",
       " 'misattributed-oscar-wilde',\n",
       " 'quote-investigator']"
      ]
     },
     "execution_count": 28,
     "metadata": {},
     "output_type": "execute_result"
    }
   ],
   "source": [
    "tags"
   ]
  },
  {
   "cell_type": "code",
   "execution_count": null,
   "id": "1d2ff1f2-8433-465b-9d53-6177ce5189c1",
   "metadata": {},
   "outputs": [],
   "source": []
  }
 ],
 "metadata": {
  "kernelspec": {
   "display_name": "Python 3 (ipykernel)",
   "language": "python",
   "name": "python3"
  },
  "language_info": {
   "codemirror_mode": {
    "name": "ipython",
    "version": 3
   },
   "file_extension": ".py",
   "mimetype": "text/x-python",
   "name": "python",
   "nbconvert_exporter": "python",
   "pygments_lexer": "ipython3",
   "version": "3.10.9"
  }
 },
 "nbformat": 4,
 "nbformat_minor": 5
}
