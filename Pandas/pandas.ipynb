{
 "cells": [
  {
   "cell_type": "code",
   "execution_count": 1,
   "id": "a1a0cc8d-205a-40dc-a5f0-415e5aa9ff69",
   "metadata": {},
   "outputs": [],
   "source": [
    "import requests"
   ]
  },
  {
   "cell_type": "code",
   "execution_count": 5,
   "id": "17422df1-778b-430f-aab4-bea71e6932b1",
   "metadata": {},
   "outputs": [
    {
     "data": {
      "text/plain": [
       "200"
      ]
     },
     "execution_count": 5,
     "metadata": {},
     "output_type": "execute_result"
    }
   ],
   "source": [
    "res = requests.get(\"https://encrypted-tbn0.gstatic.com/images?q=tbn:ANd9GcQhNWGGNRyKgzpxl7QQORj7t4JshVMpFzxwTMliRJM9hw&s\")\n",
    "\n",
    "res.status_code\n"
   ]
  },
  {
   "cell_type": "code",
   "execution_count": 10,
   "id": "04035a13-7126-4eaa-93ba-01ddce06236a",
   "metadata": {},
   "outputs": [],
   "source": [
    "f = open(\"gen_image.jpg\", \"wb\")\n",
    "\n",
    "f.write(res.content)\n",
    "\n",
    "f.close()"
   ]
  }
 ],
 "metadata": {
  "kernelspec": {
   "display_name": "Python 3 (ipykernel)",
   "language": "python",
   "name": "python3"
  },
  "language_info": {
   "codemirror_mode": {
    "name": "ipython",
    "version": 3
   },
   "file_extension": ".py",
   "mimetype": "text/x-python",
   "name": "python",
   "nbconvert_exporter": "python",
   "pygments_lexer": "ipython3",
   "version": "3.10.9"
  }
 },
 "nbformat": 4,
 "nbformat_minor": 5
}
