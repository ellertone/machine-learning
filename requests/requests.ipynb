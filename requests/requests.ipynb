{
 "cells": [
  {
   "cell_type": "code",
   "execution_count": 8,
   "id": "f42c6afe-b89d-4f1c-ae28-a29ca688fdb7",
   "metadata": {
    "tags": []
   },
   "outputs": [],
   "source": [
    "import requests\n",
    "import math"
   ]
  },
  {
   "cell_type": "code",
   "execution_count": 9,
   "id": "02418ea4-83fa-4b84-9385-d06b37cc6d3b",
   "metadata": {
    "tags": []
   },
   "outputs": [],
   "source": [
    "chunk_size = 256"
   ]
  },
  {
   "cell_type": "code",
   "execution_count": 10,
   "id": "4e364cb7-b97f-4864-be7c-4e3bd1c5e24e",
   "metadata": {
    "tags": []
   },
   "outputs": [],
   "source": [
    "url = 'https://www.africau.edu/images/default/sample.pdf'"
   ]
  },
  {
   "cell_type": "code",
   "execution_count": 11,
   "id": "0151bb22-ed7e-4efd-b7da-a03bbc63cfd6",
   "metadata": {
    "tags": []
   },
   "outputs": [],
   "source": [
    "r = requests.get(url)"
   ]
  },
  {
   "cell_type": "code",
   "execution_count": 12,
   "id": "7d59f93a-cd74-4415-bb84-1c128f4d97b5",
   "metadata": {},
   "outputs": [
    {
     "data": {
      "text/plain": [
       "3028"
      ]
     },
     "execution_count": 12,
     "metadata": {},
     "output_type": "execute_result"
    }
   ],
   "source": [
    "s = int(r.headers['Content-Length'])\n",
    "s"
   ]
  },
  {
   "cell_type": "code",
   "execution_count": 15,
   "id": "de1b0431-197b-4262-b782-2c636842e99b",
   "metadata": {
    "tags": []
   },
   "outputs": [],
   "source": [
    "r = requests.get(url, stream=True)"
   ]
  },
  {
   "cell_type": "code",
   "execution_count": 19,
   "id": "f81aa72f-fba3-4096-a391-e6fee52747e6",
   "metadata": {
    "tags": []
   },
   "outputs": [],
   "source": [
    "n = math.ceil(s / chunk_size)"
   ]
  },
  {
   "cell_type": "code",
   "execution_count": 21,
   "id": "47c81330-edc8-4eb8-b646-0511e1e2b1a3",
   "metadata": {
    "tags": []
   },
   "outputs": [
    {
     "data": {
      "text/plain": [
       "\u001b[0;31mSignature:\u001b[0m \u001b[0mr\u001b[0m\u001b[0;34m.\u001b[0m\u001b[0miter_content\u001b[0m\u001b[0;34m(\u001b[0m\u001b[0mchunk_size\u001b[0m\u001b[0;34m=\u001b[0m\u001b[0;36m1\u001b[0m\u001b[0;34m,\u001b[0m \u001b[0mdecode_unicode\u001b[0m\u001b[0;34m=\u001b[0m\u001b[0;32mFalse\u001b[0m\u001b[0;34m)\u001b[0m\u001b[0;34m\u001b[0m\u001b[0;34m\u001b[0m\u001b[0m\n",
       "\u001b[0;31mDocstring:\u001b[0m\n",
       "Iterates over the response data.  When stream=True is set on the\n",
       "request, this avoids reading the content at once into memory for\n",
       "large responses.  The chunk size is the number of bytes it should\n",
       "read into memory.  This is not necessarily the length of each item\n",
       "returned as decoding can take place.\n",
       "\n",
       "chunk_size must be of type int or None. A value of None will\n",
       "function differently depending on the value of `stream`.\n",
       "stream=True will read data as it arrives in whatever size the\n",
       "chunks are received. If stream=False, data is returned as\n",
       "a single chunk.\n",
       "\n",
       "If decode_unicode is True, content will be decoded using the best\n",
       "available encoding based on the response.\n",
       "\u001b[0;31mFile:\u001b[0m      ~/anaconda3/lib/python3.11/site-packages/requests/models.py\n",
       "\u001b[0;31mType:\u001b[0m      method"
      ]
     },
     "metadata": {},
     "output_type": "display_data"
    }
   ],
   "source": [
    "r.iter_content?\n"
   ]
  },
  {
   "cell_type": "code",
   "execution_count": 23,
   "id": "999fb246-6065-4b3e-a845-b1a9938a7f6e",
   "metadata": {
    "tags": []
   },
   "outputs": [],
   "source": [
    "with open(\"file.csv\", \"wb\") as file:\n",
    "    for chunk in r.iter_content(chunk_size=chunk_size):\n",
    "        file.write(chunk)"
   ]
  },
  {
   "cell_type": "code",
   "execution_count": null,
   "id": "8158f58d-8752-4c34-95f0-acc2b2e1d4c8",
   "metadata": {},
   "outputs": [],
   "source": []
  }
 ],
 "metadata": {
  "kernelspec": {
   "display_name": "Python 3 (ipykernel)",
   "language": "python",
   "name": "python3"
  },
  "language_info": {
   "codemirror_mode": {
    "name": "ipython",
    "version": 3
   },
   "file_extension": ".py",
   "mimetype": "text/x-python",
   "name": "python",
   "nbconvert_exporter": "python",
   "pygments_lexer": "ipython3",
   "version": "3.11.4"
  }
 },
 "nbformat": 4,
 "nbformat_minor": 5
}
