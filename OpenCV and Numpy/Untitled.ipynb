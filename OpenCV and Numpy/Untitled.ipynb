{
 "cells": [
  {
   "cell_type": "code",
   "execution_count": 1,
   "id": "34cb86e9-4750-4b95-ad90-e174bdc20c0f",
   "metadata": {},
   "outputs": [],
   "source": [
    "import numpy as np"
   ]
  },
  {
   "cell_type": "code",
   "execution_count": 12,
   "id": "499d46ee-6e3c-4d62-b2f7-91da756586e8",
   "metadata": {},
   "outputs": [],
   "source": [
    "a =np.random.randint(1,10, (2, 5))\n",
    "b =np.random.randint(1,10, (2, 5))"
   ]
  },
  {
   "cell_type": "code",
   "execution_count": 13,
   "id": "669b50d4-62b4-432e-9f7e-4461463457c3",
   "metadata": {},
   "outputs": [
    {
     "data": {
      "text/plain": [
       "array([[7, 2, 3, 9, 2],\n",
       "       [4, 5, 9, 8, 1]])"
      ]
     },
     "execution_count": 13,
     "metadata": {},
     "output_type": "execute_result"
    }
   ],
   "source": [
    "a"
   ]
  },
  {
   "cell_type": "code",
   "execution_count": 14,
   "id": "0f587bf1-8ff5-4c2a-9820-bde3849e82fb",
   "metadata": {},
   "outputs": [
    {
     "data": {
      "text/plain": [
       "array([[3, 4, 5, 7, 3],\n",
       "       [4, 6, 1, 3, 6]])"
      ]
     },
     "execution_count": 14,
     "metadata": {},
     "output_type": "execute_result"
    }
   ],
   "source": [
    "b"
   ]
  },
  {
   "cell_type": "code",
   "execution_count": 15,
   "id": "d5d04ac4-2dcf-46b4-8be6-6fd2128e40d8",
   "metadata": {},
   "outputs": [
    {
     "data": {
      "text/plain": [
       "array([[10,  6,  8, 16,  5],\n",
       "       [ 8, 11, 10, 11,  7]])"
      ]
     },
     "execution_count": 15,
     "metadata": {},
     "output_type": "execute_result"
    }
   ],
   "source": [
    "a + b"
   ]
  },
  {
   "cell_type": "code",
   "execution_count": null,
   "id": "64b312e8-818b-4ff3-a1e2-b1654c2ab811",
   "metadata": {},
   "outputs": [],
   "source": [
    "## Broadcasting rules\n",
    "# Shape should be same, start checking from the Right\n",
    "#  if it has 1, it will work\n",
    "#"
   ]
  }
 ],
 "metadata": {
  "kernelspec": {
   "display_name": "Python 3 (ipykernel)",
   "language": "python",
   "name": "python3"
  },
  "language_info": {
   "codemirror_mode": {
    "name": "ipython",
    "version": 3
   },
   "file_extension": ".py",
   "mimetype": "text/x-python",
   "name": "python",
   "nbconvert_exporter": "python",
   "pygments_lexer": "ipython3",
   "version": "3.10.9"
  }
 },
 "nbformat": 4,
 "nbformat_minor": 5
}
