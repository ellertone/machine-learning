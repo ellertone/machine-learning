{
 "cells": [
  {
   "cell_type": "code",
   "execution_count": 21,
   "id": "6ceb754e-237a-4d44-b353-ec5e52dfcbd0",
   "metadata": {},
   "outputs": [
    {
     "name": "stderr",
     "output_type": "stream",
     "text": [
      "Matplotlib is building the font cache; this may take a moment.\n"
     ]
    }
   ],
   "source": [
    "from PIL import Image\n",
    "import numpy as np\n",
    "import matplotlib.pyplot as plt"
   ]
  },
  {
   "cell_type": "code",
   "execution_count": 13,
   "id": "4c07c04a-39c3-4c57-ad54-2622c4597444",
   "metadata": {},
   "outputs": [],
   "source": [
    "pil = Image.open(\"kaneki.jpeg\")"
   ]
  },
  {
   "cell_type": "code",
   "execution_count": 14,
   "id": "62b1575a-1fd1-43d9-957c-5e77e938a446",
   "metadata": {},
   "outputs": [],
   "source": [
    "arr = np.array(pil)"
   ]
  },
  {
   "cell_type": "code",
   "execution_count": 15,
   "id": "62fb578e-65a0-4226-9f58-e832f3e45feb",
   "metadata": {},
   "outputs": [
    {
     "data": {
      "text/plain": [
       "(653, 338, 3)"
      ]
     },
     "execution_count": 15,
     "metadata": {},
     "output_type": "execute_result"
    }
   ],
   "source": [
    "arr.shape"
   ]
  },
  {
   "cell_type": "code",
   "execution_count": 19,
   "id": "401d616d-fcb1-4731-b0cf-6e6c02b1449f",
   "metadata": {},
   "outputs": [],
   "source": [
    "cut = arr[:5, :5]"
   ]
  },
  {
   "cell_type": "code",
   "execution_count": 22,
   "id": "5be199a5-9867-4630-ab24-1eaa14cc88bd",
   "metadata": {},
   "outputs": [
    {
     "data": {
      "text/plain": [
       "<matplotlib.image.AxesImage at 0x7f4eb297c880>"
      ]
     },
     "execution_count": 22,
     "metadata": {},
     "output_type": "execute_result"
    },
    {
     "data": {
      "image/png": "[encoded data removed]",
      "text/plain": [
       "<Figure size 640x480 with 1 Axes>"
      ]
     },
     "metadata": {},
     "output_type": "display_data"
    }
   ],
   "source": [
    "plt.imshow(cut)"
   ]
  },
  {
   "cell_type": "code",
   "execution_count": null,
   "id": "f67ebf9f-7556-48f0-9b68-a15ffb4cbe7b",
   "metadata": {},
   "outputs": [],
   "source": []
  }
 ],
 "metadata": {
  "kernelspec": {
   "display_name": "Python 3 (ipykernel)",
   "language": "python",
   "name": "python3"
  },
  "language_info": {
   "codemirror_mode": {
    "name": "ipython",
    "version": 3
   },
   "file_extension": ".py",
   "mimetype": "text/x-python",
   "name": "python",
   "nbconvert_exporter": "python",
   "pygments_lexer": "ipython3",
   "version": "3.10.9"
  }
 },
 "nbformat": 4,
 "nbformat_minor": 5
}
